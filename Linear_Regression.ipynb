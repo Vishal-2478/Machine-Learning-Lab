{
 "cells": [
  {
   "cell_type": "code",
   "execution_count": null,
   "id": "b3d81872-a811-40df-a88f-64d38b90f4b2",
   "metadata": {},
   "outputs": [
    {
     "name": "stdout",
     "output_type": "stream",
     "text": [
      "n = 12\n",
      "sumX = 54 sumY = 908\n",
      "sumX2 = 332 sumXY = 3724\n",
      "xBar = 4.5 yBar = 75.66666666666667\n",
      "\n",
      "Slope m =  -4.067415730337078\n",
      "\n",
      "Intercept c =  93.97003745318352\n"
     ]
    }
   ],
   "source": [
    "x = [0, 1, 2, 3, 3, 5, 5, 6, 7, 7, 10, 5]\n",
    "y = [96, 85, 82, 74, 95, 68, 76, 58, 65, 75, 50, 84]\n",
    "\n",
    "n = len(x)\n",
    "sumX = 0\n",
    "sumY = 0\n",
    "sumX2 = 0\n",
    "sumXY = 0\n",
    "for i in range(n):\n",
    "    sumX += x[i]\n",
    "    sumY += y[i]\n",
    "    sumX2 += x[i] * x[i]\n",
    "    sumXY += x[i] * y[i]\n",
    "\n",
    "xBar = sumX / n\n",
    "yBar = sumY / n\n",
    "\n",
    "print(\"n =\", n)\n",
    "print(\"sumX =\", sumX, \"sumY =\", sumY)\n",
    "print(\"sumX2 =\", sumX2, \"sumXY =\", sumXY)\n",
    "print(\"xBar =\", xBar, \"yBar =\", yBar)\n",
    "\n",
    "num = n * sumXY - sumX * sumY\n",
    "den = n * sumX2 - sumX ** 2\n",
    "m = num / den\n",
    "c = yBar - m * xBar\n",
    "\n",
    "print(\"\\nSlope m = \", m)\n",
    "print(\"\\nIntercept c = \", c)\n",
    "\n",
    "hours = int(input(\"\\nEnter study hours to predict marks: \"))\n",
    "predicted_marks = m * hours + c\n",
    "print(f\"Predicted marks for {hours} hours of study = {predicted_marks}\")\n",
    "\n"
   ]
  },
  {
   "cell_type": "code",
   "execution_count": 8,
   "id": "7e28d651-9d3e-4fcc-806d-e33b2c539e7d",
   "metadata": {},
   "outputs": [],
   "source": []
  },
  {
   "cell_type": "code",
   "execution_count": 10,
   "id": "e93a761e-b099-465b-837c-5b07ca7ce53a",
   "metadata": {},
   "outputs": [
    {
     "name": "stdout",
     "output_type": "stream",
     "text": [
      "n = 12\n",
      "sumX = 54 sumY = 908\n",
      "sumX2 = 332 sumXY = 3724\n",
      "xBar = 4.5 yBar = 75.66666666666667\n"
     ]
    }
   ],
   "source": []
  },
  {
   "cell_type": "code",
   "execution_count": 11,
   "id": "cd5ededa-de31-4279-b48a-4de36451c4a4",
   "metadata": {},
   "outputs": [
    {
     "name": "stdout",
     "output_type": "stream",
     "text": [
      "\n",
      "Slope m = -4.067415730337078\n",
      "\n",
      "Intercept c = 93.97003745318352\n"
     ]
    }
   ],
   "source": []
  },
  {
   "cell_type": "code",
   "execution_count": 14,
   "id": "679087cf-d274-4eb0-b9d8-6997ae18cc6c",
   "metadata": {},
   "outputs": [
    {
     "name": "stdin",
     "output_type": "stream",
     "text": [
      "\n",
      "Enter study hours to predict marks:  9\n"
     ]
    },
    {
     "name": "stdout",
     "output_type": "stream",
     "text": [
      "Predicted marks for 9 hours of study = 57.36329588014982\n"
     ]
    }
   ],
   "source": []
  },
  {
   "cell_type": "code",
   "execution_count": null,
   "id": "68962e61-0992-48cf-b641-61ce70f6b811",
   "metadata": {},
   "outputs": [],
   "source": []
  }
 ],
 "metadata": {
  "kernelspec": {
   "display_name": "Python 3 (ipykernel)",
   "language": "python",
   "name": "python3"
  },
  "language_info": {
   "codemirror_mode": {
    "name": "ipython",
    "version": 3
   },
   "file_extension": ".py",
   "mimetype": "text/x-python",
   "name": "python",
   "nbconvert_exporter": "python",
   "pygments_lexer": "ipython3",
   "version": "3.11.5"
  }
 },
 "nbformat": 4,
 "nbformat_minor": 5
}
